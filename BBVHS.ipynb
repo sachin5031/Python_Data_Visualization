{
 "cells": [
  {
   "cell_type": "markdown",
   "id": "61662359",
   "metadata": {},
   "source": [
    "# Bar, Box, Violin, Histogram and Scatter Plotting"
   ]
  },
  {
   "cell_type": "code",
   "execution_count": null,
   "id": "2550d623",
   "metadata": {},
   "outputs": [],
   "source": [
    "# 11/8/2025\n",
    "import pandas as pd\n",
    "import numpy as np\n",
    "import matplotlib.pyplot as plt\n",
    "import statistics"
   ]
  },
  {
   "cell_type": "code",
   "execution_count": null,
   "id": "5373747d",
   "metadata": {},
   "outputs": [],
   "source": [
    "# Bar Plots\n",
    "\n",
    "movie_type = ['comedy', 'romance', 'drama', 'action', 'scifi']\n",
    "rating = [4, 3, 5, 7, 8]\n",
    "\n",
    "plt.bar(movie_type, rating, color='r')\n",
    "plt.xticks(rotation=90)  # Rotate x-axis labels\n",
    "plt.ylabel(\"Rating\")\n",
    "plt.title(\"Movie Ratings\")\n",
    "plt.show()"
   ]
  }
 ],
 "metadata": {
  "kernelspec": {
   "display_name": "Python 3",
   "language": "python",
   "name": "python3"
  },
  "language_info": {
   "codemirror_mode": {
    "name": "ipython",
    "version": 3
   },
   "file_extension": ".py",
   "mimetype": "text/x-python",
   "name": "python",
   "nbconvert_exporter": "python",
   "pygments_lexer": "ipython3",
   "version": "3.13.2"
  }
 },
 "nbformat": 4,
 "nbformat_minor": 5
}
