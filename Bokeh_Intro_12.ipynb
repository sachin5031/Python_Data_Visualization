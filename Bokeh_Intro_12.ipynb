{
 "cells": [
  {
   "cell_type": "markdown",
   "id": "41e5f093",
   "metadata": {},
   "source": [
    "# Bokeh\n",
    "**Bokeh** is an interactive visualization library for Python that enables the creation of rich, interactive plots and dashboards in web browsers. It is designed to provide elegant and concise graphics, and it can handle large and streaming datasets efficiently. Bokeh supports a wide range of chart types, including line, bar, scatter, and heatmaps, and allows for interactive features such as zooming, panning, tooltips, and widgets.\n",
    "\n",
    "**Key features of Bokeh:**\n",
    "- Interactive plots and dashboards\n",
    "- Output to HTML, notebooks, and web apps\n",
    "- Integration with Pandas, NumPy, and other data sources\n",
    "- Support for streaming and real-time data\n",
    "- Customizable and extensible with JavaScript callbacks\n",
    "\n",
    "Bokeh is commonly used in data science and analytics to create visualizations that help explore and communicate data insights interactively."
   ]
  },
  {
   "cell_type": "code",
   "execution_count": 2,
   "id": "b4f418a2",
   "metadata": {},
   "outputs": [],
   "source": [
    "from bokeh.plotting import figure, show, output_file"
   ]
  },
  {
   "cell_type": "code",
   "execution_count": null,
   "id": "286c7f9a",
   "metadata": {},
   "outputs": [],
   "source": []
  }
 ],
 "metadata": {
  "kernelspec": {
   "display_name": "Python 3",
   "language": "python",
   "name": "python3"
  },
  "language_info": {
   "codemirror_mode": {
    "name": "ipython",
    "version": 3
   },
   "file_extension": ".py",
   "mimetype": "text/x-python",
   "name": "python",
   "nbconvert_exporter": "python",
   "pygments_lexer": "ipython3",
   "version": "3.13.2"
  }
 },
 "nbformat": 4,
 "nbformat_minor": 5
}
