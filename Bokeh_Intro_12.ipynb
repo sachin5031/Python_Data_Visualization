{
 "cells": [
  {
   "cell_type": "markdown",
   "id": "41e5f093",
   "metadata": {},
   "source": [
    "# Bokeh\n",
    "**Bokeh** is an interactive visualization library for Python that enables the creation of rich, interactive plots and dashboards in web browsers. It is designed to provide elegant and concise graphics, and it can handle large and streaming datasets efficiently. Bokeh supports a wide range of chart types, including line, bar, scatter, and heatmaps, and allows for interactive features such as zooming, panning, tooltips, and widgets.\n",
    "\n",
    "**Key features of Bokeh:**\n",
    "- Interactive plots and dashboards\n",
    "- Output to HTML, notebooks, and web apps\n",
    "- Integration with Pandas, NumPy, and other data sources\n",
    "- Support for streaming and real-time data\n",
    "- Customizable and extensible with JavaScript callbacks\n",
    "\n",
    "Bokeh is commonly used in data science and analytics to create visualizations that help explore and communicate data insights interactively."
   ]
  },
  {
   "cell_type": "code",
   "execution_count": 1,
   "id": "b4f418a2",
   "metadata": {},
   "outputs": [],
   "source": [
    "from bokeh.plotting import figure, show, output_file"
   ]
  },
  {
   "cell_type": "markdown",
   "id": "4604adc5",
   "metadata": {},
   "source": [
    "# Line Plotting"
   ]
  },
  {
   "cell_type": "code",
   "execution_count": 2,
   "id": "286c7f9a",
   "metadata": {},
   "outputs": [],
   "source": [
    "x= [1,2,3,4,5]\n",
    "y= [6,7,2,4,5]\n",
    "\n",
    "output_file('line.html') # Displaying outside because bokeh cannot display in a notebook\n",
    "\n",
    "fig = figure(title=\"Bokeh Line Plot\", x_axis_label=\"X-axis\", y_axis_label=\"Y-axis\")\n",
    "fig.line(x, y)\n",
    "show(fig)"
   ]
  },
  {
   "cell_type": "markdown",
   "id": "792b93e2",
   "metadata": {},
   "source": [
    "# hbar() Plotting"
   ]
  },
  {
   "cell_type": "code",
   "execution_count": null,
   "id": "0b93e15d",
   "metadata": {},
   "outputs": [],
   "source": [
    "output_file(\"hbar.html\")\n",
    "\n",
    "fig = figure(\n",
    "    title=\"Bokeh Horizontal Bar Plot\",\n",
    "    x_axis_label=\"X-axis\",\n",
    "    y_axis_label=\"Y-axis\",\n",
    "    height=400, width=600\n",
    ")\n",
    "\n",
    "# hbar parameters: y=categories, right=values\n",
    "fig.hbar(y=x, right=y, height=0.5, left=0, color=\"cyan\")\n",
    "\n",
    "show(fig)\n",
    "\n",
    "# height: it show height of vertical bars\n",
    "# Left: The x coordinates of the left edges\n",
    "# Right: The x coordinates of the right edges"
   ]
  },
  {
   "cell_type": "markdown",
   "id": "1a280c0f",
   "metadata": {},
   "source": [
    "# Vbar() Plotting\n"
   ]
  },
  {
   "cell_type": "code",
   "execution_count": 5,
   "id": "c1c6a1e2",
   "metadata": {},
   "outputs": [],
   "source": [
    "output_file(\"vbar.html\")\n",
    "\n",
    "fig = figure(\n",
    "    title=\"Bokeh Vertical Bar Plot\",\n",
    "    x_axis_label=\"X-axis\",\n",
    "    y_axis_label=\"Y-axis\",\n",
    "    height=400, width=600\n",
    ")\n",
    "\n",
    "fig.vbar(x=x, top=y, width=0.5, bottom=0, color=\"cyan\")\n",
    "show(fig)\n",
    "\n",
    "# top: The y coordinates of the top edges\n",
    "# bottom: The y coordinates of the bottom edges\n",
    "# width: The width of the vertical bars"
   ]
  },
  {
   "cell_type": "markdown",
   "id": "746d2c9c",
   "metadata": {},
   "source": [
    "# Patch vs Patches in Bokeh\n",
    "\n",
    "**patch** and **patches** are glyph methods in Bokeh for drawing filled polygons.\n",
    "\n",
    "- **patch**: Draws a single polygon using lists of x and y coordinates.\n",
    "    - Example: `fig.patch(x=x, y=y, color=\"green\")`\n",
    "    - Use when you want to display one shape.\n",
    "\n",
    "- **patches**: Draws multiple polygons at once using lists of lists for x and y coordinates.\n",
    "    - Example: `fig.patches(xs=xs, ys=ys, fill_color=[\"red\", \"green\", \"blue\"], line_color=\"black\")`\n",
    "    - Use when you want to display several shapes, each with its own coordinates.\n",
    "\n",
    "**Summary:**  \n",
    "- Use `patch` for one polygon.  \n",
    "- Use `patches` for multiple polygons."
   ]
  },
  {
   "cell_type": "code",
   "execution_count": 8,
   "id": "b8bce6ed",
   "metadata": {},
   "outputs": [],
   "source": [
    "output_file(\"patch.html\")\n",
    "\n",
    "fig = figure(\n",
    "    title=\"Bokeh Patch Plot\",\n",
    "    x_axis_label=\"X-axis\",\n",
    "    y_axis_label=\"Y-axis\",\n",
    "    height=400, width=600\n",
    ")\n",
    "\n",
    "fig.patch(x=x, y=y, color=\"green\")\n",
    "show(fig)"
   ]
  },
  {
   "cell_type": "code",
   "execution_count": null,
   "id": "c90d066e",
   "metadata": {},
   "outputs": [],
   "source": [
    "# Patches Plot\n",
    "xs=[[1, 5, 3], [1, 4, 8], [3, 7, 5]]\n",
    "ys=[[5, 3, 8], [5, 2, 3], [4, 3, 1]]\n",
    "\n",
    "output_file(\"patches.html\")\n",
    "\n",
    "fig = figure(\n",
    "    title=\"Bokeh Patches Plot\",\n",
    "    x_axis_label=\"X-axis\",\n",
    "    y_axis_label=\"Y-axis\",\n",
    "    height=400, width=600\n",
    ")\n",
    "\n",
    "fig.patches(xs=xs, ys=ys, fill_color=[\"red\", \"green\", \"blue\"], line_color=\"black\")\n",
    "show(fig)\n",
    "\n",
    "# Patches in Bokeh are defined by a list of x-coordinates and a list of y-coordinates.\n",
    "# fill_color controls the interior color of the patches.\n",
    "# line_color controls the border color of the patches."
   ]
  },
  {
   "cell_type": "markdown",
   "id": "ce347ecc",
   "metadata": {},
   "source": [
    "# Scatter and Marker in Bokeh\n",
    "\n",
    "In Bokeh, a scatter plot is created using glyph methods like `circle`, `square`, `triangle`, etc. These glyphs are called **markers**. Each marker type represents a different shape for the data points.\n",
    "\n",
    "**Common marker types in Bokeh include:**\n",
    "\n",
    "- `circle`\n",
    "- `square`\n",
    "- `triangle`\n",
    "- `diamond`\n",
    "- `cross`\n",
    "- `x`\n",
    "- `asterisk`\n",
    "- `circle_cross`\n",
    "- `circle_x`\n",
    "- `square_cross`\n",
    "- `square_x`\n",
    "- `inverted_triangle`\n",
    "- `hex`\n",
    "- `star`\n",
    "- `star_dot`\n",
    "\n",
    "Scatter plots in Bokeh use marker glyphs to represent data points. Different marker types allow for customization and distinction between datasets."
   ]
  },
  {
   "cell_type": "code",
   "execution_count": null,
   "id": "f11d0ac9",
   "metadata": {},
   "outputs": [],
   "source": [
    "output_file(\"bokeh_scatter.html\")\n",
    "\n",
    "fig = figure(\n",
    "    title=\"Bokeh Scatter Plot\",\n",
    "    x_axis_label=\"X-axis\",\n",
    "    y_axis_label=\"Y-axis\",\n",
    "    height=400, width=600\n",
    ")\n",
    "\n",
    "fig.scatter(x, y, size=50, marker='star', fill_color=\"red\", color=\"black\" )\n",
    "show(fig)\n",
    "\n",
    "# Scatter plots in Bokeh use marker glyphs to represent data points.\n",
    "# fill_color controls the interior color of the markers.\n",
    "# color controls the border color of the markers."
   ]
  },
  {
   "cell_type": "markdown",
   "id": "8d218c9e",
   "metadata": {},
   "source": [
    "\n",
    "# varea() Plotting in Bokeh\n",
    "\n",
    "The `varea()` glyph method in Bokeh is used to create vertical area plots. It fills the area between two y-values across a range of x-values, making it useful for visualizing ranges, confidence intervals, or cumulative data.\n",
    "\n",
    "**Key points about `varea()`:**\n",
    "- Fills the area between `y1` (bottom) and `y2` (top) for each x-value.\n",
    "- Commonly used to show uncertainty bands, ranges, or stacked areas.\n",
    "- Supports customization of fill color, transparency, and line properties.\n",
    "\n",
    "**Example usage:**\n",
    "```python\n",
    "fig.varea(x=x, y1=[2, 3, 1, 2, 1], y2=y, fill_color=\"lightblue\", alpha=0.5)\n",
    "```\n",
    "This will shade the area between the lists `[2, 3, 1, 2, 1]` and `y` for each value in `x`.\n",
    "```"
   ]
  },
  {
   "cell_type": "code",
   "execution_count": 36,
   "id": "74101d59",
   "metadata": {},
   "outputs": [],
   "source": [
    "y1=[2, 3, 1, 2, 1]\n",
    "output_file(\"varea_scatter.html\")\n",
    "\n",
    "fig = figure(\n",
    "    title=\"Bokeh Varea Plot\",\n",
    "    x_axis_label=\"X-axis\",\n",
    "    y_axis_label=\"Y-axis\",\n",
    "    height=400, width=600\n",
    ")\n",
    "\n",
    "fig.varea(x=x, y1=y1, y2=y, fill_color=\"purple\")\n",
    "show(fig)\n",
    "\n",
    "# x controls the x-axis coordinates of the area between the two y-values.\n",
    "# y1 controls the lower y-axis coordinates of the area.\n",
    "# y2 controls the upper y-axis coordinates of the area."
   ]
  },
  {
   "cell_type": "markdown",
   "id": "0e58df51",
   "metadata": {},
   "source": [
    "# harea() Plotting in Bokeh\n",
    "\n",
    "The `harea()` glyph method in Bokeh is used to create horizontal area plots. It fills the area between two x-values across a range of y-values, making it useful for visualizing ranges or intervals horizontally.\n",
    "\n",
    "**Key points about `harea()`:**\n",
    "- Fills the area between `x1` (left) and `x2` (right) for each y-value."
   ]
  },
  {
   "cell_type": "code",
   "execution_count": 35,
   "id": "ff5bc64d",
   "metadata": {},
   "outputs": [],
   "source": [
    "x1=[1, 2, 1, 3, 2]\n",
    "output_file(\"harea_scatter.html\")\n",
    "\n",
    "fig = figure(\n",
    "    title=\"Bokeh HArea Plot\",\n",
    "    x_axis_label=\"X-axis\",\n",
    "    y_axis_label=\"Y-axis\",\n",
    "    height=400, width=600\n",
    ")\n",
    "\n",
    "fig.harea(y=y, x1=x1, x2=x, fill_color=\"green\")\n",
    "show(fig)\n",
    "\n",
    "# y controls the y-axis coordinates of the area between the two x-values.\n",
    "# x1 controls the lower x-axis coordinates of the area.\n",
    "# x2 controls the upper x-axis coordinates of the area."
   ]
  },
  {
   "cell_type": "markdown",
   "id": "437eaecb",
   "metadata": {},
   "source": [
    "## Circle, Circle_Cross, and Circle_X Markers in Bokeh\n",
    "\n",
    "Bokeh provides several marker glyphs for scatter plots, including:\n",
    "\n",
    "- **circle**: Draws simple circular markers at specified (x, y) coordinates.\n",
    "- **circle_cross**: Draws circles with a cross (+) inside each marker.\n",
    "- **circle_x**: Draws circles with an \"x\" inside each marker.\n",
    "\n",
    "These markers help distinguish different datasets visually.  \n",
    "Example usage:\n",
    "```python\n",
    "fig.circle(x, y, size=10, color=\"blue\")\n",
    "fig.circle_cross(x, y, size=10, color=\"green\")\n",
    "fig.circle_x(x, y, size=10, color=\"red\")\n",
    "```\n",
    "Each marker type can be customized with size, color, and other properties."
   ]
  },
  {
   "cell_type": "code",
   "execution_count": 47,
   "id": "da1b317f",
   "metadata": {},
   "outputs": [
    {
     "name": "stderr",
     "output_type": "stream",
     "text": [
      "BokehDeprecationWarning: 'circle() method with size value' was deprecated in Bokeh 3.4.0 and will be removed, use 'scatter(size=...) instead' instead.\n"
     ]
    }
   ],
   "source": [
    "output_file(\"Circle_Plotting1.html\")\n",
    "\n",
    "fig = figure(\n",
    "    title=\"Bokeh Circle Plot\",\n",
    "    x_axis_label=\"X-axis\",\n",
    "    y_axis_label=\"Y-axis\",\n",
    "    height=400, width=600\n",
    ")\n",
    "\n",
    "fig.circle(x, y, size=20, fill_color=\"orange\", line_width=3, line_color='black')\n",
    "show(fig)\n"
   ]
  },
  {
   "cell_type": "code",
   "execution_count": 48,
   "id": "66263413",
   "metadata": {},
   "outputs": [
    {
     "name": "stderr",
     "output_type": "stream",
     "text": [
      "BokehDeprecationWarning: 'circle_x() method' was deprecated in Bokeh 3.4.0 and will be removed, use \"scatter(marker='circle_x', ...) instead\" instead.\n"
     ]
    }
   ],
   "source": [
    "output_file(\"Circle_x_Plotting.html\")\n",
    "\n",
    "fig = figure(\n",
    "    title=\"Bokeh Circle_x Plot\",\n",
    "    x_axis_label=\"X-axis\",\n",
    "    y_axis_label=\"Y-axis\",\n",
    "    height=400, width=600\n",
    ")\n",
    "fig.circle_x(x, y, size=20, fill_color=\"red\", line_width=3, line_color='black')\n",
    "show(fig)"
   ]
  },
  {
   "cell_type": "code",
   "execution_count": 50,
   "id": "b403aca2",
   "metadata": {},
   "outputs": [
    {
     "name": "stderr",
     "output_type": "stream",
     "text": [
      "BokehDeprecationWarning: 'circle_cross() method' was deprecated in Bokeh 3.4.0 and will be removed, use \"scatter(marker='circle_cross', ...) instead\" instead.\n"
     ]
    }
   ],
   "source": [
    "output_file(\"Circle_cross_Plotting.html\")\n",
    "\n",
    "fig = figure(\n",
    "    title=\"Bokeh Circle_cross Plot\",\n",
    "    x_axis_label=\"X-axis\",\n",
    "    y_axis_label=\"Y-axis\",\n",
    "    height=400, width=600\n",
    ")\n",
    "fig.circle_cross(x, y, size=20, fill_color=\"yellow\", line_width=3, line_color='black')\n",
    "show(fig)"
   ]
  }
 ],
 "metadata": {
  "kernelspec": {
   "display_name": "Python 3",
   "language": "python",
   "name": "python3"
  },
  "language_info": {
   "codemirror_mode": {
    "name": "ipython",
    "version": 3
   },
   "file_extension": ".py",
   "mimetype": "text/x-python",
   "name": "python",
   "nbconvert_exporter": "python",
   "pygments_lexer": "ipython3",
   "version": "3.13.2"
  }
 },
 "nbformat": 4,
 "nbformat_minor": 5
}
