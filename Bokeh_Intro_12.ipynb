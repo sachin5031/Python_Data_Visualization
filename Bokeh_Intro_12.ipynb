{
 "cells": [
  {
   "cell_type": "markdown",
   "id": "41e5f093",
   "metadata": {},
   "source": [
    "# Bokeh\n",
    "**Bokeh** is an interactive visualization library for Python that enables the creation of rich, interactive plots and dashboards in web browsers. It is designed to provide elegant and concise graphics, and it can handle large and streaming datasets efficiently. Bokeh supports a wide range of chart types, including line, bar, scatter, and heatmaps, and allows for interactive features such as zooming, panning, tooltips, and widgets.\n",
    "\n",
    "**Key features of Bokeh:**\n",
    "- Interactive plots and dashboards\n",
    "- Output to HTML, notebooks, and web apps\n",
    "- Integration with Pandas, NumPy, and other data sources\n",
    "- Support for streaming and real-time data\n",
    "- Customizable and extensible with JavaScript callbacks\n",
    "\n",
    "Bokeh is commonly used in data science and analytics to create visualizations that help explore and communicate data insights interactively."
   ]
  },
  {
   "cell_type": "code",
   "execution_count": null,
   "id": "b4f418a2",
   "metadata": {},
   "outputs": [],
   "source": [
    "from bokeh.plotting import figure, show, output_file"
   ]
  },
  {
   "cell_type": "markdown",
   "id": "4604adc5",
   "metadata": {},
   "source": [
    "# Line Plotting"
   ]
  },
  {
   "cell_type": "code",
   "execution_count": 25,
   "id": "286c7f9a",
   "metadata": {},
   "outputs": [],
   "source": [
    "x= [1,2,3,4,5]\n",
    "y= [6,7,2,4,5]\n",
    "\n",
    "output_file('line.html') # Displaying outside because bokeh cannot display in a notebook\n",
    "\n",
    "fig = figure(title=\"Bokeh Line Plot\", x_axis_label=\"X-axis\", y_axis_label=\"Y-axis\")\n",
    "fig.line(x, y)\n",
    "show(fig)"
   ]
  },
  {
   "cell_type": "markdown",
   "id": "792b93e2",
   "metadata": {},
   "source": [
    "# hbar() Plotting"
   ]
  },
  {
   "cell_type": "code",
   "execution_count": null,
   "id": "0b93e15d",
   "metadata": {},
   "outputs": [],
   "source": [
    "output_file(\"hbar.html\")\n",
    "\n",
    "fig = figure(\n",
    "    title=\"Bokeh Horizontal Bar Plot\",\n",
    "    x_axis_label=\"X-axis\",\n",
    "    y_axis_label=\"Y-axis\",\n",
    "    height=400, width=600\n",
    ")\n",
    "\n",
    "# hbar parameters: y=categories, right=values\n",
    "fig.hbar(y=x, right=y, height=0.5, left=0, color=\"cyan\")\n",
    "\n",
    "show(fig)\n",
    "\n",
    "# height: it show height of vertical bars\n",
    "# Left: The x coordinates of the left edges\n",
    "# Right: The x coordinates of the right edges"
   ]
  },
  {
   "cell_type": "markdown",
   "id": "1a280c0f",
   "metadata": {},
   "source": [
    "# Vbar() Plotting\n"
   ]
  },
  {
   "cell_type": "code",
   "execution_count": null,
   "id": "c1c6a1e2",
   "metadata": {},
   "outputs": [],
   "source": [
    "output_file(\"vbar.html\")\n",
    "\n",
    "fig = figure(\n",
    "    title=\"Bokeh Vertical Bar Plot\",\n",
    "    x_axis_label=\"X-axis\",\n",
    "    y_axis_label=\"Y-axis\",\n",
    "    height=400, width=600\n",
    ")\n",
    "\n",
    "fig.vbar(x=x, top=y, width=0.5, bottom=0, color=\"cyan\")\n",
    "show(fig)\n",
    "\n",
    "# top: The y coordinates of the top edges\n",
    "# bottom: The y coordinates of the bottom edges\n",
    "# width: The width of the vertical bars"
   ]
  },
  {
   "cell_type": "code",
   "execution_count": 23,
   "id": "b8bce6ed",
   "metadata": {},
   "outputs": [],
   "source": [
    "output_file(\"patch.html\")\n",
    "\n",
    "fig = figure(\n",
    "    title=\"Bokeh Patch Plot\",\n",
    "    x_axis_label=\"X-axis\",\n",
    "    y_axis_label=\"Y-axis\",\n",
    "    height=400, width=600\n",
    ")\n",
    "\n",
    "fig.patch(x=x, y=y, color=\"cyan\", alpha=0.5)\n",
    "show(fig)\n"
   ]
  }
 ],
 "metadata": {
  "kernelspec": {
   "display_name": "Python 3",
   "language": "python",
   "name": "python3"
  },
  "language_info": {
   "codemirror_mode": {
    "name": "ipython",
    "version": 3
   },
   "file_extension": ".py",
   "mimetype": "text/x-python",
   "name": "python",
   "nbconvert_exporter": "python",
   "pygments_lexer": "ipython3",
   "version": "3.13.2"
  }
 },
 "nbformat": 4,
 "nbformat_minor": 5
}
